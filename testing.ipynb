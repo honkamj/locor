{
 "cells": [
  {
   "cell_type": "code",
   "execution_count": 2,
   "metadata": {},
   "outputs": [],
   "source": [
    "import jax.numpy as jnp\n",
    "import jax\n",
    "import numpy as np\n",
    "import equinox"
   ]
  },
  {
   "cell_type": "code",
   "execution_count": 6,
   "metadata": {},
   "outputs": [
    {
     "data": {
      "text/plain": [
       "Array(0., dtype=float32)"
      ]
     },
     "execution_count": 6,
     "metadata": {},
     "output_type": "execute_result"
    }
   ],
   "source": [
    "jnp.zeros(tuple())"
   ]
  },
  {
   "cell_type": "code",
   "execution_count": 25,
   "metadata": {},
   "outputs": [],
   "source": [
    "from dataclasses import dataclass\n",
    "import jax\n",
    "import jax.numpy as jnp\n",
    "\n",
    "@dataclass(frozen=True)\n",
    "class MyModule:\n",
    "    scale: np.ndarray\n",
    "\n",
    "    def __hash__(self):\n",
    "        return id(self)\n",
    "\n",
    "    def __call__(self, x):\n",
    "        return x * self.scale\n",
    "\n",
    "# Use like this\n",
    "module = MyModule(scale=np.array([2., 3., 4.]))\n",
    "x = jnp.array([1., 2., 3.])\n",
    "out = jax.jit(module)(x)"
   ]
  },
  {
   "cell_type": "code",
   "execution_count": null,
   "metadata": {},
   "outputs": [
    {
     "name": "stdout",
     "output_type": "stream",
     "text": [
      "<class '__main__.MyModule'>\n"
     ]
    }
   ],
   "source": [
    "from functools import partial\n",
    "\n",
    "\n",
    "@partial(jax.jit, static_argnames=(\"scale\"))\n",
    "def func(x: jnp.ndarray, scale: np.ndarray) -> jnp.ndarray:\n",
    "    return x * scale"
   ]
  },
  {
   "cell_type": "code",
   "execution_count": 26,
   "metadata": {},
   "outputs": [],
   "source": [
    "import functools\n",
    "from typing import Callable\n",
    "\n",
    "\n",
    "class custom_jit:\n",
    "    def __init__(self, func, static_kwargnames=None):\n",
    "        if static_kwargnames is None:\n",
    "            static_kwargnames = []\n",
    "        self.static_kwargnames = static_kwargnames\n",
    "        self.func = func\n",
    "        self.jitted_func: Callable | None = None\n",
    "        functools.update_wrapper(self, func)\n",
    "\n",
    "    def __call__(self, *args, **kwargs):\n",
    "        if self.jitted_func is None:\n",
    "            static_kwargs = {k: kwargs.pop(k) for k in self.static_kwargnames}\n",
    "            def _func(*args, **kwargs):\n",
    "                return self.func(*args, **kwargs, **static_kwargs)\n",
    "            self.jitted_func = jax.jit(_func)\n",
    "        else:\n",
    "            kwargs = {k: kwargs[k] for k in kwargs if k not in self.static_kwargnames}\n",
    "        return self.jitted_func(*args, **kwargs)"
   ]
  },
  {
   "cell_type": "code",
   "execution_count": 55,
   "metadata": {},
   "outputs": [],
   "source": [
    "@functools.partial(custom_jit, static_kwargnames=(\"scale\",))\n",
    "def func(x: jnp.ndarray, scale: np.ndarray) -> jnp.ndarray:\n",
    "    print(\"jitting\")\n",
    "    return x * scale"
   ]
  },
  {
   "cell_type": "code",
   "execution_count": null,
   "metadata": {},
   "outputs": [
    {
     "data": {
      "text/plain": [
       "Array([21.,  4.,  9.], dtype=float32)"
      ]
     },
     "execution_count": 61,
     "metadata": {},
     "output_type": "execute_result"
    }
   ],
   "source": [
    "arr_1 = np.array([3., 2., 3.])\n",
    "arr_2 = jnp.array([7., 2., 3.])\n",
    "\n",
    "func(arr_1, scale=arr_2)\n",
    "\n",
    "np.ndarray"
   ]
  }
 ],
 "metadata": {
  "kernelspec": {
   "display_name": "Python 3",
   "language": "python",
   "name": "python3"
  },
  "language_info": {
   "codemirror_mode": {
    "name": "ipython",
    "version": 3
   },
   "file_extension": ".py",
   "mimetype": "text/x-python",
   "name": "python",
   "nbconvert_exporter": "python",
   "pygments_lexer": "ipython3",
   "version": "3.10.16"
  }
 },
 "nbformat": 4,
 "nbformat_minor": 2
}
