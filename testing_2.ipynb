{
 "cells": [
  {
   "cell_type": "code",
   "execution_count": 11,
   "metadata": {},
   "outputs": [],
   "source": [
    "import jax.numpy as jnp\n",
    "import jax\n",
    "import numpy as np\n",
    "import equinox\n",
    "import torch\n",
    "import locor.test as affine_transformation_torch\n",
    "import locor\n",
    "from locor import affine_transformation"
   ]
  },
  {
   "cell_type": "code",
   "execution_count": 20,
   "metadata": {},
   "outputs": [],
   "source": [
    "source_data_test = torch.randn(4, 12)\n",
    "source_data_test_numpy = source_data_test.numpy()"
   ]
  },
  {
   "cell_type": "code",
   "execution_count": 27,
   "metadata": {},
   "outputs": [
    {
     "name": "stdout",
     "output_type": "stream",
     "text": [
      "3.8146973e-06\n",
      "tensor([[ 2.4881, -1.7256, -2.7512,  1.0949],\n",
      "        [-3.3787,  4.5073,  0.2748,  1.6547],\n",
      "        [ 1.7935, -0.2718, -1.4170,  1.6879],\n",
      "        [ 0.0000,  0.0000,  0.0000,  1.0000]])\n",
      "[[ 2.4881127  -1.725615   -2.751151    1.0949339 ]\n",
      " [-3.3787146   4.5072684   0.27476966  1.6546583 ]\n",
      " [ 1.7935138  -0.27182332 -1.4169611   1.6878794 ]\n",
      " [ 0.          0.          0.          1.        ]]\n"
     ]
    }
   ],
   "source": [
    "affine_torch = affine_transformation_torch.generate_affine_transformation_matrix(\n",
    "    parameters=source_data_test,\n",
    "    transformation_type=affine_transformation_torch.AffineTransformationTypeDefinition.full(),\n",
    "    inverse=True,\n",
    ")\n",
    "affine = affine_transformation.generate_affine_transformation_matrix(\n",
    "    parameters=source_data_test_numpy,\n",
    "    transformation_type=affine_transformation.AffineTransformationTypeDefinition.full(),\n",
    "    inverse=True,\n",
    ")\n",
    "print(np.amax(np.abs(affine_torch.numpy() - affine)))\n",
    "print(affine_torch[0])\n",
    "print(affine[0])"
   ]
  },
  {
   "cell_type": "code",
   "execution_count": 8,
   "metadata": {},
   "outputs": [
    {
     "name": "stdout",
     "output_type": "stream",
     "text": [
      "torch.Size([1, 1, 16, 16, 16])\n",
      "-0.4502831697463989\n"
     ]
    }
   ],
   "source": [
    "sampler = cm.CubicSplineSampler()\n",
    "coordinate_system = cm.CoordinateSystem.voxel(\n",
    "    spatial_shape=source_data_test.shape[2:],\n",
    ")\n",
    "source_test = cm.samplable_volume(source_data_test, coordinate_system=coordinate_system)\n",
    "target_test = cm.samplable_volume(target_data_test, coordinate_system=coordinate_system)\n",
    "\n",
    "loss = local_least_squares_error(source_test, target_test, sampler, coordinate_system, regularization=1)\n",
    "print(loss.shape)\n",
    "print(float(loss.mean()))"
   ]
  },
  {
   "cell_type": "code",
   "execution_count": 9,
   "metadata": {},
   "outputs": [
    {
     "name": "stdout",
     "output_type": "stream",
     "text": [
      "(1, 1, 16, 16, 16)\n",
      "-0.45028313994407654\n"
     ]
    }
   ],
   "source": [
    "import jaxmorph as jm\n",
    "import locor\n",
    "import locor.local_least_squares_error\n",
    "with jax.default_device(jax.devices(\"cpu\")[0]):\n",
    "    sampler = jm.CubicSplineSampler()\n",
    "    coordinate_system = jm.CoordinateSystem.voxel(\n",
    "        spatial_shape=source_data_test.shape[2:],\n",
    "    )\n",
    "    source_test = jm.samplable_volume(source_data_test_numpy, coordinate_system=coordinate_system)\n",
    "    target_test = jm.samplable_volume(target_data_test_numpy, coordinate_system=coordinate_system)\n",
    "\n",
    "    loss = locor.local_least_squares_error.local_least_squares_error(source_test, target_test, sampler, coordinate_system, regularization=1)\n",
    "    print(loss.shape)\n",
    "    print(float(loss.mean()))"
   ]
  }
 ],
 "metadata": {
  "kernelspec": {
   "display_name": "Python 3",
   "language": "python",
   "name": "python3"
  },
  "language_info": {
   "codemirror_mode": {
    "name": "ipython",
    "version": 3
   },
   "file_extension": ".py",
   "mimetype": "text/x-python",
   "name": "python",
   "nbconvert_exporter": "python",
   "pygments_lexer": "ipython3",
   "version": "3.10.16"
  }
 },
 "nbformat": 4,
 "nbformat_minor": 2
}
