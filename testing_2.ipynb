{
 "cells": [
  {
   "cell_type": "code",
   "execution_count": 1,
   "metadata": {},
   "outputs": [],
   "source": [
    "import jax.numpy as jnp\n",
    "import jax\n",
    "import matplotlib.pyplot as plt\n",
    "import numpy as np\n",
    "import equinox\n",
    "import torch\n",
    "from locor.gaussian_sampler import GaussianSampler as GaussianSampler_jm\n",
    "import composable_mapping as cm\n",
    "import jaxmorph as jm"
   ]
  },
  {
   "cell_type": "code",
   "execution_count": 2,
   "metadata": {},
   "outputs": [],
   "source": [
    "torch.manual_seed(0)\n",
    "source_data_test = torch.randn(1, 3, 32, 32, 32)\n",
    "source_data_test_numpy = source_data_test.numpy()"
   ]
  },
  {
   "cell_type": "code",
   "execution_count": 3,
   "metadata": {},
   "outputs": [],
   "source": [
    "\"\"\"Gaussian smoothing sampler.\"\"\"\n",
    "\n",
    "from typing import Sequence, Union\n",
    "\n",
    "from composable_mapping import (\n",
    "    LimitDirection,\n",
    "    PiecewiseKernelDefinition,\n",
    "    SeparableSampler,\n",
    ")\n",
    "from torch import Tensor\n",
    "from torch import bool as torch_bool\n",
    "from torch import device as torch_device\n",
    "from torch import dtype as torch_dtype\n",
    "from torch import exp, linspace, zeros\n",
    "\n",
    "\n",
    "class GaussianKernel(PiecewiseKernelDefinition):\n",
    "    \"\"\"Gaussian kernel.\"\"\"\n",
    "\n",
    "    def __init__(\n",
    "        self,\n",
    "        truncate_at: Sequence[int | float],\n",
    "        mean: Sequence[int | float] | None = None,\n",
    "        std: Sequence[int | float] | None = None,\n",
    "    ) -> None:\n",
    "        self._truncate_at = truncate_at\n",
    "        self._mean = mean\n",
    "        self._std = std\n",
    "\n",
    "    def is_interpolating_kernel(self, spatial_dim: int) -> bool:\n",
    "        return False\n",
    "\n",
    "    def edge_continuity_schedule(self, spatial_dim: int, device: torch_device) -> Tensor:\n",
    "        return zeros(  # Due to truncating, the kernel is not continuous at the edges\n",
    "            (1, 2), device=device, dtype=torch_bool\n",
    "        )\n",
    "\n",
    "    def piece_edges(self, spatial_dim: int, dtype: torch_dtype, device: torch_device) -> Tensor:\n",
    "        return linspace(\n",
    "            -self._truncate_at[spatial_dim],\n",
    "            self._truncate_at[spatial_dim],\n",
    "            2,\n",
    "            dtype=dtype,\n",
    "            device=device,\n",
    "        )\n",
    "\n",
    "    def evaluate(self, spatial_dim: int, coordinates: Tensor) -> Tensor:\n",
    "        std: Union[Tensor, float] = 1.0 if self._std is None else self._std[spatial_dim]\n",
    "        mean: Union[Tensor, float] = 0.0 if self._mean is None else self._mean[spatial_dim]\n",
    "        values = exp(-((coordinates - mean) ** 2) / (2 * std**2))\n",
    "        values = values / values.sum()\n",
    "        print(values)\n",
    "        print(values.shape)\n",
    "        return values\n",
    "\n",
    "\n",
    "class GaussianSampler(SeparableSampler):\n",
    "    \"\"\"Interpolation with gaussian kernel.\"\"\"\n",
    "\n",
    "    def __init__(\n",
    "        self,\n",
    "        truncate_at: Sequence[int | float],\n",
    "        mean: Sequence[int | float] | None = None,\n",
    "        std: Sequence[int | float] | None = None,\n",
    "    ) -> None:\n",
    "        self._mean = mean\n",
    "        self._std = std\n",
    "        self._truncate_at = truncate_at\n",
    "        super().__init__(\n",
    "            kernel=GaussianKernel(truncate_at=truncate_at, mean=mean, std=std),\n",
    "            extrapolation_mode=\"zeros\",\n",
    "            mask_extrapolated_regions=False,\n",
    "            limit_direction=LimitDirection.average(),\n",
    "        )\n"
   ]
  },
  {
   "cell_type": "code",
   "execution_count": 4,
   "metadata": {},
   "outputs": [
    {
     "name": "stdout",
     "output_type": "stream",
     "text": [
      "tensor([[1.3383e-04, 4.4319e-03, 5.3991e-02, 2.4197e-01, 3.9894e-01, 2.4197e-01,\n",
      "         5.3991e-02, 4.4319e-03, 1.3383e-04]])\n",
      "torch.Size([1, 9])\n",
      "tensor([[1.3383e-04, 4.4319e-03, 5.3991e-02, 2.4197e-01, 3.9894e-01, 2.4197e-01,\n",
      "         5.3991e-02, 4.4319e-03, 1.3383e-04]])\n",
      "torch.Size([1, 9])\n",
      "tensor([[1.3383e-04, 4.4319e-03, 5.3991e-02, 2.4197e-01, 3.9894e-01, 2.4197e-01,\n",
      "         5.3991e-02, 4.4319e-03, 1.3383e-04]])\n",
      "torch.Size([1, 9])\n",
      "torch.Size([1, 3, 32, 32, 32])\n",
      "-0.0024836468510329723\n"
     ]
    },
    {
     "data": {
      "text/plain": [
       "<matplotlib.image.AxesImage at 0x7f0298f729b0>"
      ]
     },
     "execution_count": 4,
     "metadata": {},
     "output_type": "execute_result"
    },
    {
     "data": {
      "image/png": "[encoded data removed]",
      "text/plain": [
       "<Figure size 640x480 with 1 Axes>"
      ]
     },
     "metadata": {},
     "output_type": "display_data"
    }
   ],
   "source": [
    "coordinate_system = cm.CoordinateSystem.voxel(\n",
    "    spatial_shape=source_data_test.shape[2:],\n",
    ")\n",
    "source_test = cm.samplable_volume(\n",
    "    source_data_test,\n",
    "    coordinate_system=coordinate_system,\n",
    "    sampler=GaussianSampler(truncate_at=[4, 4, 4]),\n",
    ")\n",
    "sampled = source_test.sample().generate_values()\n",
    "print(sampled.shape)\n",
    "print(float(sampled.mean()))\n",
    "\n",
    "plt.imshow(sampled[0, 0, 16])"
   ]
  },
  {
   "cell_type": "code",
   "execution_count": 5,
   "metadata": {},
   "outputs": [
    {
     "name": "stdout",
     "output_type": "stream",
     "text": [
      "[[1.3383062e-04 4.4318619e-03 5.3991124e-02 2.4197143e-01 3.9894345e-01\n",
      "  2.4197143e-01 5.3991124e-02 4.4318619e-03 1.3383062e-04]]\n",
      "(1, 9)\n",
      "[[1.3383062e-04 4.4318619e-03 5.3991124e-02 2.4197143e-01 3.9894345e-01\n",
      "  2.4197143e-01 5.3991124e-02 4.4318619e-03 1.3383062e-04]]\n",
      "(1, 9)\n",
      "[[1.3383062e-04 4.4318619e-03 5.3991124e-02 2.4197143e-01 3.9894345e-01\n",
      "  2.4197143e-01 5.3991124e-02 4.4318619e-03 1.3383062e-04]]\n",
      "(1, 9)\n",
      "(1, 3, 32, 32, 32)\n",
      "-0.002483647782355547\n"
     ]
    },
    {
     "data": {
      "text/plain": [
       "<matplotlib.image.AxesImage at 0x7f02744b7700>"
      ]
     },
     "execution_count": 5,
     "metadata": {},
     "output_type": "execute_result"
    },
    {
     "data": {
      "image/png": "[encoded data removed]",
      "text/plain": [
       "<Figure size 640x480 with 1 Axes>"
      ]
     },
     "metadata": {},
     "output_type": "display_data"
    }
   ],
   "source": [
    "coordinate_system = jm.CoordinateSystem.voxel(\n",
    "    spatial_shape=source_data_test.shape[2:],\n",
    ")\n",
    "source_test = jm.samplable_volume(\n",
    "    source_data_test_numpy,\n",
    "    coordinate_system=coordinate_system,\n",
    "    sampler=GaussianSampler_jm(truncate_at=[4, 4, 4]),\n",
    ")\n",
    "sampled = source_test.sample().generate_values()\n",
    "print(sampled.shape)\n",
    "print(float(sampled.mean()))\n",
    "plt.imshow(sampled[0, 0, 16])"
   ]
  }
 ],
 "metadata": {
  "kernelspec": {
   "display_name": "Python 3",
   "language": "python",
   "name": "python3"
  },
  "language_info": {
   "codemirror_mode": {
    "name": "ipython",
    "version": 3
   },
   "file_extension": ".py",
   "mimetype": "text/x-python",
   "name": "python",
   "nbconvert_exporter": "python",
   "pygments_lexer": "ipython3",
   "version": "3.10.16"
  }
 },
 "nbformat": 4,
 "nbformat_minor": 2
}
